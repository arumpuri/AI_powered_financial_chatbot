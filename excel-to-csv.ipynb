{
 "cells": [
  {
   "cell_type": "code",
   "execution_count": 1,
   "id": "fd265434-ee63-470c-9636-d7ae668fc35f",
   "metadata": {},
   "outputs": [],
   "source": [
    "import pandas as pd"
   ]
  },
  {
   "cell_type": "code",
   "execution_count": 3,
   "id": "fe0f4d12-9ee0-4605-b927-dfb18902b349",
   "metadata": {},
   "outputs": [
    {
     "name": "stdout",
     "output_type": "stream",
     "text": [
      "Collecting openpyxl\n",
      "  Downloading openpyxl-3.1.5-py2.py3-none-any.whl.metadata (2.5 kB)\n",
      "Collecting et-xmlfile (from openpyxl)\n",
      "  Downloading et_xmlfile-2.0.0-py3-none-any.whl.metadata (2.7 kB)\n",
      "Downloading openpyxl-3.1.5-py2.py3-none-any.whl (250 kB)\n",
      "Downloading et_xmlfile-2.0.0-py3-none-any.whl (18 kB)\n",
      "Installing collected packages: et-xmlfile, openpyxl\n",
      "Successfully installed et-xmlfile-2.0.0 openpyxl-3.1.5\n"
     ]
    }
   ],
   "source": [
    "!pip install openpyxl"
   ]
  },
  {
   "cell_type": "code",
   "execution_count": 2,
   "id": "88b6c708-6fd5-46a6-929d-c603154079b2",
   "metadata": {},
   "outputs": [],
   "source": [
    "# Read Excel with parameters (adjust based on your data structure)\n",
    "df = pd.read_excel(\n",
    "    'finance.xlsx',\n",
    "    sheet_name='Sheet1',      # Specify sheet\n",
    "    skiprows=3,               # Skip initial empty rows\n",
    "    usecols='A:I',            # Select relevant columns \n",
    "    header=0                  # Use the first row as headers\n",
    ")"
   ]
  },
  {
   "cell_type": "code",
   "execution_count": 3,
   "id": "fb1a44d6-b6f6-4f38-874a-a20bff409506",
   "metadata": {},
   "outputs": [],
   "source": [
    "# Drop columns with all NaN values\n",
    "df = df.dropna(axis=1, how='all')"
   ]
  },
  {
   "cell_type": "code",
   "execution_count": 4,
   "id": "73b78051-4bba-4d41-ae1a-4dd9587db022",
   "metadata": {},
   "outputs": [],
   "source": [
    "df.to_csv('finance.csv', index=False, encoding='utf-8')"
   ]
  },
  {
   "cell_type": "code",
   "execution_count": 5,
   "id": "143f8cb3-0d00-4158-bb77-0e8c9bf5633f",
   "metadata": {},
   "outputs": [],
   "source": [
    "df1 = pd.read_csv('finance.csv')"
   ]
  },
  {
   "cell_type": "code",
   "execution_count": 6,
   "id": "27b54afd-a537-4a19-9dca-3b3e98366502",
   "metadata": {},
   "outputs": [
    {
     "data": {
      "text/html": [
       "<div>\n",
       "<style scoped>\n",
       "    .dataframe tbody tr th:only-of-type {\n",
       "        vertical-align: middle;\n",
       "    }\n",
       "\n",
       "    .dataframe tbody tr th {\n",
       "        vertical-align: top;\n",
       "    }\n",
       "\n",
       "    .dataframe thead th {\n",
       "        text-align: right;\n",
       "    }\n",
       "</style>\n",
       "<table border=\"1\" class=\"dataframe\">\n",
       "  <thead>\n",
       "    <tr style=\"text-align: right;\">\n",
       "      <th></th>\n",
       "      <th>Date</th>\n",
       "      <th>Company</th>\n",
       "      <th>Total_Revenue</th>\n",
       "      <th>Net_Income</th>\n",
       "      <th>Total_Assets</th>\n",
       "      <th>Total_Liabilities</th>\n",
       "      <th>Cash_Flow_Operating_Activities</th>\n",
       "      <th>Filing_Type</th>\n",
       "    </tr>\n",
       "  </thead>\n",
       "  <tbody>\n",
       "    <tr>\n",
       "      <th>0</th>\n",
       "      <td>2024-09-30</td>\n",
       "      <td>Microsoft</td>\n",
       "      <td>65585</td>\n",
       "      <td>24667</td>\n",
       "      <td>523013</td>\n",
       "      <td>115200</td>\n",
       "      <td>34180</td>\n",
       "      <td>Q-10</td>\n",
       "    </tr>\n",
       "    <tr>\n",
       "      <th>1</th>\n",
       "      <td>2024-06-30</td>\n",
       "      <td>Microsoft</td>\n",
       "      <td>245122</td>\n",
       "      <td>88136</td>\n",
       "      <td>512163</td>\n",
       "      <td>243686</td>\n",
       "      <td>118548</td>\n",
       "      <td>K-10</td>\n",
       "    </tr>\n",
       "    <tr>\n",
       "      <th>2</th>\n",
       "      <td>2024-03-31</td>\n",
       "      <td>Microsoft</td>\n",
       "      <td>61858</td>\n",
       "      <td>21939</td>\n",
       "      <td>484275</td>\n",
       "      <td>231123</td>\n",
       "      <td>31917</td>\n",
       "      <td>Q-10</td>\n",
       "    </tr>\n",
       "    <tr>\n",
       "      <th>3</th>\n",
       "      <td>2023-12-31</td>\n",
       "      <td>Microsoft</td>\n",
       "      <td>62020</td>\n",
       "      <td>21870</td>\n",
       "      <td>470558</td>\n",
       "      <td>232290</td>\n",
       "      <td>18853</td>\n",
       "      <td>Q-10</td>\n",
       "    </tr>\n",
       "    <tr>\n",
       "      <th>4</th>\n",
       "      <td>2023-09-30</td>\n",
       "      <td>Microsoft</td>\n",
       "      <td>56517</td>\n",
       "      <td>22291</td>\n",
       "      <td>445785</td>\n",
       "      <td>225071</td>\n",
       "      <td>30583</td>\n",
       "      <td>Q-10</td>\n",
       "    </tr>\n",
       "  </tbody>\n",
       "</table>\n",
       "</div>"
      ],
      "text/plain": [
       "         Date    Company Total_Revenue  Net_Income   Total_Assets  \\\n",
       "0  2024-09-30  Microsoft         65585        24667        523013   \n",
       "1  2024-06-30  Microsoft        245122        88136        512163   \n",
       "2  2024-03-31  Microsoft         61858        21939        484275   \n",
       "3  2023-12-31  Microsoft         62020        21870        470558   \n",
       "4  2023-09-30  Microsoft         56517        22291        445785   \n",
       "\n",
       "   Total_Liabilities  Cash_Flow_Operating_Activities  Filing_Type   \n",
       "0             115200                            34180         Q-10  \n",
       "1             243686                           118548         K-10  \n",
       "2             231123                            31917         Q-10  \n",
       "3             232290                            18853         Q-10  \n",
       "4             225071                            30583         Q-10  "
      ]
     },
     "execution_count": 6,
     "metadata": {},
     "output_type": "execute_result"
    }
   ],
   "source": [
    "df1.head()"
   ]
  },
  {
   "cell_type": "code",
   "execution_count": null,
   "id": "235b24c7-6717-420d-8868-9f634543124f",
   "metadata": {},
   "outputs": [],
   "source": []
  }
 ],
 "metadata": {
  "kernelspec": {
   "display_name": "Python 3 (ipykernel)",
   "language": "python",
   "name": "python3"
  },
  "language_info": {
   "codemirror_mode": {
    "name": "ipython",
    "version": 3
   },
   "file_extension": ".py",
   "mimetype": "text/x-python",
   "name": "python",
   "nbconvert_exporter": "python",
   "pygments_lexer": "ipython3",
   "version": "3.12.5"
  }
 },
 "nbformat": 4,
 "nbformat_minor": 5
}
