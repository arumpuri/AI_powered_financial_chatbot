{
 "cells": [
  {
   "cell_type": "code",
   "execution_count": 1,
   "metadata": {
    "_cell_guid": "b1076dfc-b9ad-4769-8c92-a6c4dae69d19",
    "_uuid": "8f2839f25d086af736a60e9eeb907d3b93b6e0e5",
    "execution": {
     "iopub.execute_input": "2025-02-18T10:30:18.060250Z",
     "iopub.status.busy": "2025-02-18T10:30:18.059977Z",
     "iopub.status.idle": "2025-02-18T10:30:19.490446Z",
     "shell.execute_reply": "2025-02-18T10:30:19.489223Z",
     "shell.execute_reply.started": "2025-02-18T10:30:18.060223Z"
    }
   },
   "outputs": [
    {
     "name": "stdout",
     "output_type": "stream",
     "text": [
      "/kaggle/input/finance-final/finance.csv\n"
     ]
    }
   ],
   "source": [
    "# This Python 3 environment comes with many helpful analytics libraries installed\n",
    "# It is defined by the kaggle/python Docker image: https://github.com/kaggle/docker-python\n",
    "# For example, here's several helpful packages to load\n",
    "\n",
    "import numpy as np # linear algebra\n",
    "import pandas as pd # data processing, CSV file I/O (e.g. pd.read_csv)\n",
    "\n",
    "# Input data files are available in the read-only \"../input/\" directory\n",
    "# For example, running this (by clicking run or pressing Shift+Enter) will list all files under the input directory\n",
    "\n",
    "import os\n",
    "for dirname, _, filenames in os.walk('/kaggle/input'):\n",
    "    for filename in filenames:\n",
    "        print(os.path.join(dirname, filename))\n",
    "\n",
    "# You can write up to 20GB to the current directory (/kaggle/working/) that gets preserved as output when you create a version using \"Save & Run All\" \n",
    "# You can also write temporary files to /kaggle/temp/, but they won't be saved outside of the current session"
   ]
  },
  {
   "cell_type": "code",
   "execution_count": 2,
   "metadata": {
    "execution": {
     "iopub.execute_input": "2025-02-18T10:30:19.492284Z",
     "iopub.status.busy": "2025-02-18T10:30:19.491683Z",
     "iopub.status.idle": "2025-02-18T10:30:19.514099Z",
     "shell.execute_reply": "2025-02-18T10:30:19.512903Z",
     "shell.execute_reply.started": "2025-02-18T10:30:19.492242Z"
    }
   },
   "outputs": [],
   "source": [
    "df = pd.read_csv(\"../input/finance-final/finance.csv\")\n",
    "# df_csv = pd.read_csv(\"/kaggle/input/finance/finance.csv\")"
   ]
  },
  {
   "cell_type": "code",
   "execution_count": 3,
   "metadata": {
    "execution": {
     "iopub.execute_input": "2025-02-18T10:30:19.515701Z",
     "iopub.status.busy": "2025-02-18T10:30:19.515176Z",
     "iopub.status.idle": "2025-02-18T10:30:19.545130Z",
     "shell.execute_reply": "2025-02-18T10:30:19.543896Z",
     "shell.execute_reply.started": "2025-02-18T10:30:19.515655Z"
    }
   },
   "outputs": [
    {
     "data": {
      "text/html": [
       "<div>\n",
       "<style scoped>\n",
       "    .dataframe tbody tr th:only-of-type {\n",
       "        vertical-align: middle;\n",
       "    }\n",
       "\n",
       "    .dataframe tbody tr th {\n",
       "        vertical-align: top;\n",
       "    }\n",
       "\n",
       "    .dataframe thead th {\n",
       "        text-align: right;\n",
       "    }\n",
       "</style>\n",
       "<table border=\"1\" class=\"dataframe\">\n",
       "  <thead>\n",
       "    <tr style=\"text-align: right;\">\n",
       "      <th></th>\n",
       "      <th>Date</th>\n",
       "      <th>Company</th>\n",
       "      <th>Total_Revenue</th>\n",
       "      <th>Net_Income</th>\n",
       "      <th>Total_Assets</th>\n",
       "      <th>Total_Liabilities</th>\n",
       "      <th>Cash_Flow_Operating_Activities</th>\n",
       "      <th>Filing_Type</th>\n",
       "    </tr>\n",
       "  </thead>\n",
       "  <tbody>\n",
       "    <tr>\n",
       "      <th>0</th>\n",
       "      <td>2024-09-30</td>\n",
       "      <td>Microsoft</td>\n",
       "      <td>65585</td>\n",
       "      <td>24667</td>\n",
       "      <td>523013</td>\n",
       "      <td>115200</td>\n",
       "      <td>34180</td>\n",
       "      <td>Q-10</td>\n",
       "    </tr>\n",
       "    <tr>\n",
       "      <th>1</th>\n",
       "      <td>2024-06-30</td>\n",
       "      <td>Microsoft</td>\n",
       "      <td>245122</td>\n",
       "      <td>88136</td>\n",
       "      <td>512163</td>\n",
       "      <td>243686</td>\n",
       "      <td>118548</td>\n",
       "      <td>K-10</td>\n",
       "    </tr>\n",
       "    <tr>\n",
       "      <th>2</th>\n",
       "      <td>2024-03-31</td>\n",
       "      <td>Microsoft</td>\n",
       "      <td>61858</td>\n",
       "      <td>21939</td>\n",
       "      <td>484275</td>\n",
       "      <td>231123</td>\n",
       "      <td>31917</td>\n",
       "      <td>Q-10</td>\n",
       "    </tr>\n",
       "    <tr>\n",
       "      <th>3</th>\n",
       "      <td>2023-12-31</td>\n",
       "      <td>Microsoft</td>\n",
       "      <td>62020</td>\n",
       "      <td>21870</td>\n",
       "      <td>470558</td>\n",
       "      <td>232290</td>\n",
       "      <td>18853</td>\n",
       "      <td>Q-10</td>\n",
       "    </tr>\n",
       "    <tr>\n",
       "      <th>4</th>\n",
       "      <td>2023-09-30</td>\n",
       "      <td>Microsoft</td>\n",
       "      <td>56517</td>\n",
       "      <td>22291</td>\n",
       "      <td>445785</td>\n",
       "      <td>225071</td>\n",
       "      <td>30583</td>\n",
       "      <td>Q-10</td>\n",
       "    </tr>\n",
       "    <tr>\n",
       "      <th>5</th>\n",
       "      <td>2023-06-30</td>\n",
       "      <td>Microsoft</td>\n",
       "      <td>211915</td>\n",
       "      <td>72361</td>\n",
       "      <td>411976</td>\n",
       "      <td>205753</td>\n",
       "      <td>87582</td>\n",
       "      <td>K-10</td>\n",
       "    </tr>\n",
       "    <tr>\n",
       "      <th>6</th>\n",
       "      <td>2023-03-31</td>\n",
       "      <td>Microsoft</td>\n",
       "      <td>52857</td>\n",
       "      <td>18299</td>\n",
       "      <td>380088</td>\n",
       "      <td>185405</td>\n",
       "      <td>24441</td>\n",
       "      <td>Q-10</td>\n",
       "    </tr>\n",
       "    <tr>\n",
       "      <th>7</th>\n",
       "      <td>2022-12-31</td>\n",
       "      <td>Microsoft</td>\n",
       "      <td>52747</td>\n",
       "      <td>16425</td>\n",
       "      <td>364552</td>\n",
       "      <td>181416</td>\n",
       "      <td>11173</td>\n",
       "      <td>Q-10</td>\n",
       "    </tr>\n",
       "    <tr>\n",
       "      <th>8</th>\n",
       "      <td>2022-09-30</td>\n",
       "      <td>Microsoft</td>\n",
       "      <td>50122</td>\n",
       "      <td>17556</td>\n",
       "      <td>359784</td>\n",
       "      <td>186218</td>\n",
       "      <td>23198</td>\n",
       "      <td>Q-10</td>\n",
       "    </tr>\n",
       "    <tr>\n",
       "      <th>9</th>\n",
       "      <td>2022-06-30</td>\n",
       "      <td>Microsoft</td>\n",
       "      <td>198270</td>\n",
       "      <td>72738</td>\n",
       "      <td>364840</td>\n",
       "      <td>198298</td>\n",
       "      <td>89035</td>\n",
       "      <td>K-10</td>\n",
       "    </tr>\n",
       "  </tbody>\n",
       "</table>\n",
       "</div>"
      ],
      "text/plain": [
       "         Date    Company  Total_Revenue  Net_Income  Total_Assets  \\\n",
       "0  2024-09-30  Microsoft          65585       24667        523013   \n",
       "1  2024-06-30  Microsoft         245122       88136        512163   \n",
       "2  2024-03-31  Microsoft          61858       21939        484275   \n",
       "3  2023-12-31  Microsoft          62020       21870        470558   \n",
       "4  2023-09-30  Microsoft          56517       22291        445785   \n",
       "5  2023-06-30  Microsoft         211915       72361        411976   \n",
       "6  2023-03-31  Microsoft          52857       18299        380088   \n",
       "7  2022-12-31  Microsoft          52747       16425        364552   \n",
       "8  2022-09-30  Microsoft          50122       17556        359784   \n",
       "9  2022-06-30  Microsoft         198270       72738        364840   \n",
       "\n",
       "   Total_Liabilities  Cash_Flow_Operating_Activities Filing_Type  \n",
       "0             115200                           34180        Q-10  \n",
       "1             243686                          118548        K-10  \n",
       "2             231123                           31917        Q-10  \n",
       "3             232290                           18853        Q-10  \n",
       "4             225071                           30583        Q-10  \n",
       "5             205753                           87582        K-10  \n",
       "6             185405                           24441        Q-10  \n",
       "7             181416                           11173        Q-10  \n",
       "8             186218                           23198        Q-10  \n",
       "9             198298                           89035        K-10  "
      ]
     },
     "execution_count": 3,
     "metadata": {},
     "output_type": "execute_result"
    }
   ],
   "source": [
    "df.head(10)"
   ]
  },
  {
   "cell_type": "code",
   "execution_count": 4,
   "metadata": {
    "execution": {
     "iopub.execute_input": "2025-02-18T10:30:19.548721Z",
     "iopub.status.busy": "2025-02-18T10:30:19.548266Z",
     "iopub.status.idle": "2025-02-18T10:30:19.577397Z",
     "shell.execute_reply": "2025-02-18T10:30:19.576052Z",
     "shell.execute_reply.started": "2025-02-18T10:30:19.548680Z"
    }
   },
   "outputs": [
    {
     "name": "stdout",
     "output_type": "stream",
     "text": [
      "<class 'pandas.core.frame.DataFrame'>\n",
      "RangeIndex: 39 entries, 0 to 38\n",
      "Data columns (total 8 columns):\n",
      " #   Column                          Non-Null Count  Dtype \n",
      "---  ------                          --------------  ----- \n",
      " 0   Date                            39 non-null     object\n",
      " 1   Company                         39 non-null     object\n",
      " 2   Total_Revenue                   39 non-null     int64 \n",
      " 3   Net_Income                      39 non-null     int64 \n",
      " 4   Total_Assets                    39 non-null     int64 \n",
      " 5   Total_Liabilities               39 non-null     int64 \n",
      " 6   Cash_Flow_Operating_Activities  39 non-null     int64 \n",
      " 7   Filing_Type                     39 non-null     object\n",
      "dtypes: int64(5), object(3)\n",
      "memory usage: 2.6+ KB\n"
     ]
    }
   ],
   "source": [
    "df.info()"
   ]
  },
  {
   "cell_type": "code",
   "execution_count": 5,
   "metadata": {
    "execution": {
     "iopub.execute_input": "2025-02-18T10:30:19.579864Z",
     "iopub.status.busy": "2025-02-18T10:30:19.579406Z",
     "iopub.status.idle": "2025-02-18T10:30:19.616157Z",
     "shell.execute_reply": "2025-02-18T10:30:19.614254Z",
     "shell.execute_reply.started": "2025-02-18T10:30:19.579820Z"
    }
   },
   "outputs": [],
   "source": [
    "# Convert 'Date' to datetime\n",
    "df['Date'] = pd.to_datetime(df['Date'])"
   ]
  },
  {
   "cell_type": "code",
   "execution_count": 6,
   "metadata": {
    "execution": {
     "iopub.execute_input": "2025-02-18T10:30:19.617808Z",
     "iopub.status.busy": "2025-02-18T10:30:19.617396Z",
     "iopub.status.idle": "2025-02-18T10:30:19.659814Z",
     "shell.execute_reply": "2025-02-18T10:30:19.658633Z",
     "shell.execute_reply.started": "2025-02-18T10:30:19.617768Z"
    }
   },
   "outputs": [],
   "source": [
    "# Step 1: Filter 10-K filings and get last three fiscal years for each company\n",
    "k10_df = df[df['Filing_Type'] == 'K-10'].sort_values(['Company', 'Date'], ascending=[True, False])\n",
    "last_three_k10 = k10_df.groupby('Company').head(3).sort_values(['Company', 'Date'])"
   ]
  },
  {
   "cell_type": "code",
   "execution_count": 7,
   "metadata": {
    "execution": {
     "iopub.execute_input": "2025-02-18T10:30:19.661734Z",
     "iopub.status.busy": "2025-02-18T10:30:19.661174Z",
     "iopub.status.idle": "2025-02-18T10:30:19.667911Z",
     "shell.execute_reply": "2025-02-18T10:30:19.666776Z",
     "shell.execute_reply.started": "2025-02-18T10:30:19.661687Z"
    }
   },
   "outputs": [],
   "source": [
    "# Step 2: Calculate YoY percentage changes for financial metrics\n",
    "financial_metrics = ['Total_Revenue', 'Net_Income', 'Total_Assets', 'Total_Liabilities', 'Cash_Flow_Operating_Activities']"
   ]
  },
  {
   "cell_type": "code",
   "execution_count": 8,
   "metadata": {
    "execution": {
     "iopub.execute_input": "2025-02-18T10:30:19.670367Z",
     "iopub.status.busy": "2025-02-18T10:30:19.669494Z",
     "iopub.status.idle": "2025-02-18T10:30:19.712176Z",
     "shell.execute_reply": "2025-02-18T10:30:19.711024Z",
     "shell.execute_reply.started": "2025-02-18T10:30:19.670311Z"
    }
   },
   "outputs": [],
   "source": [
    "# Ensure data is sorted chronologically for accurate pct_change\n",
    "last_three_k10 = last_three_k10.sort_values(['Company', 'Date'])\n",
    "for metric in financial_metrics:\n",
    "    last_three_k10[f'{metric}_YoY'] = last_three_k10.groupby('Company')[metric].pct_change() * 100"
   ]
  },
  {
   "cell_type": "code",
   "execution_count": 9,
   "metadata": {
    "execution": {
     "iopub.execute_input": "2025-02-18T10:30:19.713935Z",
     "iopub.status.busy": "2025-02-18T10:30:19.713530Z",
     "iopub.status.idle": "2025-02-18T10:30:19.727941Z",
     "shell.execute_reply": "2025-02-18T10:30:19.726577Z",
     "shell.execute_reply.started": "2025-02-18T10:30:19.713896Z"
    }
   },
   "outputs": [],
   "source": [
    "# Step 3: Additional aggregations\n",
    "# Aggregate mean YoY changes per company\n",
    "yoy_aggregate = last_three_k10.groupby('Company')[['Total_Revenue_YoY', 'Net_Income_YoY']].mean().reset_index()\n"
   ]
  },
  {
   "cell_type": "code",
   "execution_count": 10,
   "metadata": {
    "execution": {
     "iopub.execute_input": "2025-02-18T10:30:19.729244Z",
     "iopub.status.busy": "2025-02-18T10:30:19.728851Z",
     "iopub.status.idle": "2025-02-18T10:30:19.760205Z",
     "shell.execute_reply": "2025-02-18T10:30:19.758845Z",
     "shell.execute_reply.started": "2025-02-18T10:30:19.729203Z"
    }
   },
   "outputs": [],
   "source": [
    "# Total assets and liabilities over the three years\n",
    "asset_liability = last_three_k10.groupby('Company')[['Total_Assets', 'Total_Liabilities']].agg(['mean', 'max', 'min'])"
   ]
  },
  {
   "cell_type": "code",
   "execution_count": 11,
   "metadata": {
    "execution": {
     "iopub.execute_input": "2025-02-18T10:30:19.761909Z",
     "iopub.status.busy": "2025-02-18T10:30:19.761467Z",
     "iopub.status.idle": "2025-02-18T10:30:19.799579Z",
     "shell.execute_reply": "2025-02-18T10:30:19.798415Z",
     "shell.execute_reply.started": "2025-02-18T10:30:19.761863Z"
    }
   },
   "outputs": [
    {
     "name": "stdout",
     "output_type": "stream",
     "text": [
      "Last Three 10-K Filings with YoY Changes:\n"
     ]
    },
    {
     "name": "stderr",
     "output_type": "stream",
     "text": [
      "/usr/local/lib/python3.10/dist-packages/pandas/io/formats/format.py:1458: RuntimeWarning: invalid value encountered in greater\n",
      "  has_large_values = (abs_vals > 1e6).any()\n",
      "/usr/local/lib/python3.10/dist-packages/pandas/io/formats/format.py:1459: RuntimeWarning: invalid value encountered in less\n",
      "  has_small_values = ((abs_vals < 10 ** (-self.digits)) & (abs_vals > 0)).any()\n",
      "/usr/local/lib/python3.10/dist-packages/pandas/io/formats/format.py:1459: RuntimeWarning: invalid value encountered in greater\n",
      "  has_small_values = ((abs_vals < 10 ** (-self.digits)) & (abs_vals > 0)).any()\n"
     ]
    },
    {
     "data": {
      "text/html": [
       "<div>\n",
       "<style scoped>\n",
       "    .dataframe tbody tr th:only-of-type {\n",
       "        vertical-align: middle;\n",
       "    }\n",
       "\n",
       "    .dataframe tbody tr th {\n",
       "        vertical-align: top;\n",
       "    }\n",
       "\n",
       "    .dataframe thead th {\n",
       "        text-align: right;\n",
       "    }\n",
       "</style>\n",
       "<table border=\"1\" class=\"dataframe\">\n",
       "  <thead>\n",
       "    <tr style=\"text-align: right;\">\n",
       "      <th></th>\n",
       "      <th>Date</th>\n",
       "      <th>Company</th>\n",
       "      <th>Total_Revenue</th>\n",
       "      <th>Net_Income</th>\n",
       "      <th>Total_Assets</th>\n",
       "      <th>Total_Liabilities</th>\n",
       "      <th>Cash_Flow_Operating_Activities</th>\n",
       "      <th>Filing_Type</th>\n",
       "      <th>Total_Revenue_YoY</th>\n",
       "      <th>Net_Income_YoY</th>\n",
       "      <th>Total_Assets_YoY</th>\n",
       "      <th>Total_Liabilities_YoY</th>\n",
       "      <th>Cash_Flow_Operating_Activities_YoY</th>\n",
       "    </tr>\n",
       "  </thead>\n",
       "  <tbody>\n",
       "    <tr>\n",
       "      <th>34</th>\n",
       "      <td>2022-09-24</td>\n",
       "      <td>Apple</td>\n",
       "      <td>394328</td>\n",
       "      <td>99803</td>\n",
       "      <td>352755</td>\n",
       "      <td>302083</td>\n",
       "      <td>122151</td>\n",
       "      <td>K-10</td>\n",
       "      <td>NaN</td>\n",
       "      <td>NaN</td>\n",
       "      <td>NaN</td>\n",
       "      <td>NaN</td>\n",
       "      <td>NaN</td>\n",
       "    </tr>\n",
       "    <tr>\n",
       "      <th>30</th>\n",
       "      <td>2023-09-30</td>\n",
       "      <td>Apple</td>\n",
       "      <td>383285</td>\n",
       "      <td>96995</td>\n",
       "      <td>352583</td>\n",
       "      <td>290437</td>\n",
       "      <td>110543</td>\n",
       "      <td>K-10</td>\n",
       "      <td>-2.800461</td>\n",
       "      <td>-2.813543</td>\n",
       "      <td>-0.048759</td>\n",
       "      <td>-3.855232</td>\n",
       "      <td>-9.502992</td>\n",
       "    </tr>\n",
       "    <tr>\n",
       "      <th>26</th>\n",
       "      <td>2024-09-28</td>\n",
       "      <td>Apple</td>\n",
       "      <td>391305</td>\n",
       "      <td>93736</td>\n",
       "      <td>364980</td>\n",
       "      <td>308030</td>\n",
       "      <td>118254</td>\n",
       "      <td>K-10</td>\n",
       "      <td>2.092438</td>\n",
       "      <td>-3.359967</td>\n",
       "      <td>3.516052</td>\n",
       "      <td>6.057424</td>\n",
       "      <td>6.975566</td>\n",
       "    </tr>\n",
       "    <tr>\n",
       "      <th>9</th>\n",
       "      <td>2022-06-30</td>\n",
       "      <td>Microsoft</td>\n",
       "      <td>198270</td>\n",
       "      <td>72738</td>\n",
       "      <td>364840</td>\n",
       "      <td>198298</td>\n",
       "      <td>89035</td>\n",
       "      <td>K-10</td>\n",
       "      <td>NaN</td>\n",
       "      <td>NaN</td>\n",
       "      <td>NaN</td>\n",
       "      <td>NaN</td>\n",
       "      <td>NaN</td>\n",
       "    </tr>\n",
       "    <tr>\n",
       "      <th>5</th>\n",
       "      <td>2023-06-30</td>\n",
       "      <td>Microsoft</td>\n",
       "      <td>211915</td>\n",
       "      <td>72361</td>\n",
       "      <td>411976</td>\n",
       "      <td>205753</td>\n",
       "      <td>87582</td>\n",
       "      <td>K-10</td>\n",
       "      <td>6.882030</td>\n",
       "      <td>-0.518299</td>\n",
       "      <td>12.919636</td>\n",
       "      <td>3.759493</td>\n",
       "      <td>-1.631942</td>\n",
       "    </tr>\n",
       "    <tr>\n",
       "      <th>1</th>\n",
       "      <td>2024-06-30</td>\n",
       "      <td>Microsoft</td>\n",
       "      <td>245122</td>\n",
       "      <td>88136</td>\n",
       "      <td>512163</td>\n",
       "      <td>243686</td>\n",
       "      <td>118548</td>\n",
       "      <td>K-10</td>\n",
       "      <td>15.669962</td>\n",
       "      <td>21.800417</td>\n",
       "      <td>24.318650</td>\n",
       "      <td>18.436183</td>\n",
       "      <td>35.356580</td>\n",
       "    </tr>\n",
       "    <tr>\n",
       "      <th>24</th>\n",
       "      <td>2021-12-31</td>\n",
       "      <td>Tesla</td>\n",
       "      <td>53823</td>\n",
       "      <td>5644</td>\n",
       "      <td>62131</td>\n",
       "      <td>30548</td>\n",
       "      <td>11497</td>\n",
       "      <td>K-10</td>\n",
       "      <td>NaN</td>\n",
       "      <td>NaN</td>\n",
       "      <td>NaN</td>\n",
       "      <td>NaN</td>\n",
       "      <td>NaN</td>\n",
       "    </tr>\n",
       "    <tr>\n",
       "      <th>20</th>\n",
       "      <td>2022-12-31</td>\n",
       "      <td>Tesla</td>\n",
       "      <td>81462</td>\n",
       "      <td>12587</td>\n",
       "      <td>82338</td>\n",
       "      <td>36440</td>\n",
       "      <td>14724</td>\n",
       "      <td>K-10</td>\n",
       "      <td>51.351653</td>\n",
       "      <td>123.015592</td>\n",
       "      <td>32.523217</td>\n",
       "      <td>19.287678</td>\n",
       "      <td>28.068192</td>\n",
       "    </tr>\n",
       "    <tr>\n",
       "      <th>16</th>\n",
       "      <td>2023-12-31</td>\n",
       "      <td>Tesla</td>\n",
       "      <td>96773</td>\n",
       "      <td>14974</td>\n",
       "      <td>106618</td>\n",
       "      <td>43009</td>\n",
       "      <td>13256</td>\n",
       "      <td>K-10</td>\n",
       "      <td>18.795267</td>\n",
       "      <td>18.964010</td>\n",
       "      <td>29.488207</td>\n",
       "      <td>18.026894</td>\n",
       "      <td>-9.970117</td>\n",
       "    </tr>\n",
       "  </tbody>\n",
       "</table>\n",
       "</div>"
      ],
      "text/plain": [
       "         Date    Company  Total_Revenue  Net_Income  Total_Assets  \\\n",
       "34 2022-09-24      Apple         394328       99803        352755   \n",
       "30 2023-09-30      Apple         383285       96995        352583   \n",
       "26 2024-09-28      Apple         391305       93736        364980   \n",
       "9  2022-06-30  Microsoft         198270       72738        364840   \n",
       "5  2023-06-30  Microsoft         211915       72361        411976   \n",
       "1  2024-06-30  Microsoft         245122       88136        512163   \n",
       "24 2021-12-31      Tesla          53823        5644         62131   \n",
       "20 2022-12-31      Tesla          81462       12587         82338   \n",
       "16 2023-12-31      Tesla          96773       14974        106618   \n",
       "\n",
       "    Total_Liabilities  Cash_Flow_Operating_Activities Filing_Type  \\\n",
       "34             302083                          122151        K-10   \n",
       "30             290437                          110543        K-10   \n",
       "26             308030                          118254        K-10   \n",
       "9              198298                           89035        K-10   \n",
       "5              205753                           87582        K-10   \n",
       "1              243686                          118548        K-10   \n",
       "24              30548                           11497        K-10   \n",
       "20              36440                           14724        K-10   \n",
       "16              43009                           13256        K-10   \n",
       "\n",
       "    Total_Revenue_YoY  Net_Income_YoY  Total_Assets_YoY  \\\n",
       "34                NaN             NaN               NaN   \n",
       "30          -2.800461       -2.813543         -0.048759   \n",
       "26           2.092438       -3.359967          3.516052   \n",
       "9                 NaN             NaN               NaN   \n",
       "5            6.882030       -0.518299         12.919636   \n",
       "1           15.669962       21.800417         24.318650   \n",
       "24                NaN             NaN               NaN   \n",
       "20          51.351653      123.015592         32.523217   \n",
       "16          18.795267       18.964010         29.488207   \n",
       "\n",
       "    Total_Liabilities_YoY  Cash_Flow_Operating_Activities_YoY  \n",
       "34                    NaN                                 NaN  \n",
       "30              -3.855232                           -9.502992  \n",
       "26               6.057424                            6.975566  \n",
       "9                     NaN                                 NaN  \n",
       "5                3.759493                           -1.631942  \n",
       "1               18.436183                           35.356580  \n",
       "24                    NaN                                 NaN  \n",
       "20              19.287678                           28.068192  \n",
       "16              18.026894                           -9.970117  "
      ]
     },
     "metadata": {},
     "output_type": "display_data"
    }
   ],
   "source": [
    "# Step 4: Summary\n",
    "# Display key results\n",
    "print(\"Last Three 10-K Filings with YoY Changes:\")\n",
    "display(last_three_k10)"
   ]
  },
  {
   "cell_type": "code",
   "execution_count": 12,
   "metadata": {
    "execution": {
     "iopub.execute_input": "2025-02-18T10:30:19.800781Z",
     "iopub.status.busy": "2025-02-18T10:30:19.800417Z",
     "iopub.status.idle": "2025-02-18T10:30:19.822461Z",
     "shell.execute_reply": "2025-02-18T10:30:19.820946Z",
     "shell.execute_reply.started": "2025-02-18T10:30:19.800746Z"
    }
   },
   "outputs": [
    {
     "name": "stdout",
     "output_type": "stream",
     "text": [
      "\n",
      "Average YoY Growth Rates (%):\n"
     ]
    },
    {
     "data": {
      "text/html": [
       "<div>\n",
       "<style scoped>\n",
       "    .dataframe tbody tr th:only-of-type {\n",
       "        vertical-align: middle;\n",
       "    }\n",
       "\n",
       "    .dataframe tbody tr th {\n",
       "        vertical-align: top;\n",
       "    }\n",
       "\n",
       "    .dataframe thead th {\n",
       "        text-align: right;\n",
       "    }\n",
       "</style>\n",
       "<table border=\"1\" class=\"dataframe\">\n",
       "  <thead>\n",
       "    <tr style=\"text-align: right;\">\n",
       "      <th></th>\n",
       "      <th>Company</th>\n",
       "      <th>Total_Revenue_YoY</th>\n",
       "      <th>Net_Income_YoY</th>\n",
       "    </tr>\n",
       "  </thead>\n",
       "  <tbody>\n",
       "    <tr>\n",
       "      <th>0</th>\n",
       "      <td>Apple</td>\n",
       "      <td>-0.354011</td>\n",
       "      <td>-3.086755</td>\n",
       "    </tr>\n",
       "    <tr>\n",
       "      <th>1</th>\n",
       "      <td>Microsoft</td>\n",
       "      <td>11.275996</td>\n",
       "      <td>10.641059</td>\n",
       "    </tr>\n",
       "    <tr>\n",
       "      <th>2</th>\n",
       "      <td>Tesla</td>\n",
       "      <td>35.073460</td>\n",
       "      <td>70.989801</td>\n",
       "    </tr>\n",
       "  </tbody>\n",
       "</table>\n",
       "</div>"
      ],
      "text/plain": [
       "     Company  Total_Revenue_YoY  Net_Income_YoY\n",
       "0      Apple          -0.354011       -3.086755\n",
       "1  Microsoft          11.275996       10.641059\n",
       "2      Tesla          35.073460       70.989801"
      ]
     },
     "metadata": {},
     "output_type": "display_data"
    }
   ],
   "source": [
    "print(\"\\nAverage YoY Growth Rates (%):\")\n",
    "display(yoy_aggregate)\n"
   ]
  },
  {
   "cell_type": "code",
   "execution_count": 13,
   "metadata": {
    "execution": {
     "iopub.execute_input": "2025-02-18T10:30:19.826607Z",
     "iopub.status.busy": "2025-02-18T10:30:19.826108Z",
     "iopub.status.idle": "2025-02-18T10:30:19.863381Z",
     "shell.execute_reply": "2025-02-18T10:30:19.861974Z",
     "shell.execute_reply.started": "2025-02-18T10:30:19.826563Z"
    }
   },
   "outputs": [
    {
     "name": "stdout",
     "output_type": "stream",
     "text": [
      "\n",
      "Asset and Liability Analysis:\n"
     ]
    },
    {
     "data": {
      "text/html": [
       "<div>\n",
       "<style scoped>\n",
       "    .dataframe tbody tr th:only-of-type {\n",
       "        vertical-align: middle;\n",
       "    }\n",
       "\n",
       "    .dataframe tbody tr th {\n",
       "        vertical-align: top;\n",
       "    }\n",
       "\n",
       "    .dataframe thead tr th {\n",
       "        text-align: left;\n",
       "    }\n",
       "\n",
       "    .dataframe thead tr:last-of-type th {\n",
       "        text-align: right;\n",
       "    }\n",
       "</style>\n",
       "<table border=\"1\" class=\"dataframe\">\n",
       "  <thead>\n",
       "    <tr>\n",
       "      <th></th>\n",
       "      <th colspan=\"3\" halign=\"left\">Total_Assets</th>\n",
       "      <th colspan=\"3\" halign=\"left\">Total_Liabilities</th>\n",
       "    </tr>\n",
       "    <tr>\n",
       "      <th></th>\n",
       "      <th>mean</th>\n",
       "      <th>max</th>\n",
       "      <th>min</th>\n",
       "      <th>mean</th>\n",
       "      <th>max</th>\n",
       "      <th>min</th>\n",
       "    </tr>\n",
       "    <tr>\n",
       "      <th>Company</th>\n",
       "      <th></th>\n",
       "      <th></th>\n",
       "      <th></th>\n",
       "      <th></th>\n",
       "      <th></th>\n",
       "      <th></th>\n",
       "    </tr>\n",
       "  </thead>\n",
       "  <tbody>\n",
       "    <tr>\n",
       "      <th>Apple</th>\n",
       "      <td>356772.666667</td>\n",
       "      <td>364980</td>\n",
       "      <td>352583</td>\n",
       "      <td>300183.333333</td>\n",
       "      <td>308030</td>\n",
       "      <td>290437</td>\n",
       "    </tr>\n",
       "    <tr>\n",
       "      <th>Microsoft</th>\n",
       "      <td>429659.666667</td>\n",
       "      <td>512163</td>\n",
       "      <td>364840</td>\n",
       "      <td>215912.333333</td>\n",
       "      <td>243686</td>\n",
       "      <td>198298</td>\n",
       "    </tr>\n",
       "    <tr>\n",
       "      <th>Tesla</th>\n",
       "      <td>83695.666667</td>\n",
       "      <td>106618</td>\n",
       "      <td>62131</td>\n",
       "      <td>36665.666667</td>\n",
       "      <td>43009</td>\n",
       "      <td>30548</td>\n",
       "    </tr>\n",
       "  </tbody>\n",
       "</table>\n",
       "</div>"
      ],
      "text/plain": [
       "            Total_Assets                 Total_Liabilities                \n",
       "                    mean     max     min              mean     max     min\n",
       "Company                                                                   \n",
       "Apple      356772.666667  364980  352583     300183.333333  308030  290437\n",
       "Microsoft  429659.666667  512163  364840     215912.333333  243686  198298\n",
       "Tesla       83695.666667  106618   62131      36665.666667   43009   30548"
      ]
     },
     "metadata": {},
     "output_type": "display_data"
    }
   ],
   "source": [
    "print(\"\\nAsset and Liability Analysis:\")\n",
    "display(asset_liability)"
   ]
  }
 ],
 "metadata": {
  "kaggle": {
   "accelerator": "none",
   "dataSources": [
    {
     "datasetId": 6690653,
     "sourceId": 10782291,
     "sourceType": "datasetVersion"
    }
   ],
   "dockerImageVersionId": 30839,
   "isGpuEnabled": false,
   "isInternetEnabled": true,
   "language": "python",
   "sourceType": "notebook"
  },
  "kernelspec": {
   "display_name": "Python 3 (ipykernel)",
   "language": "python",
   "name": "python3"
  },
  "language_info": {
   "codemirror_mode": {
    "name": "ipython",
    "version": 3
   },
   "file_extension": ".py",
   "mimetype": "text/x-python",
   "name": "python",
   "nbconvert_exporter": "python",
   "pygments_lexer": "ipython3",
   "version": "3.12.5"
  }
 },
 "nbformat": 4,
 "nbformat_minor": 4
}
